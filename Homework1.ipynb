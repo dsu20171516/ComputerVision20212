{
 "cells": [
  {
   "cell_type": "code",
   "execution_count": 1,
   "id": "07d3eb63-f2fc-4ecf-9758-da766fa72e9d",
   "metadata": {},
   "outputs": [],
   "source": [
    "import numpy as np\n",
    "import cv2\n",
    "\n",
    "from matplotlib import pyplot as plt"
   ]
  },
  {
   "cell_type": "code",
   "execution_count": 2,
   "id": "75f5aded-9eb3-4aa6-bd91-d08710892e37",
   "metadata": {},
   "outputs": [],
   "source": [
    "def plt_imshow(image):\n",
    "    plt.imshow(image)\n",
    "    plt.xticks([])\n",
    "    plt.yticks([])\n",
    "    plt.show()\n",
    "\n",
    "class DrawManager:\n",
    "    def __init__(self, shape):\n",
    "        self.ix, self.iy = -1, -1\n",
    "        self.x, self.y = -1, -1\n",
    "        self.mask = np.ones(shape)\n",
    "        self.drawing = False\n",
    "        \n",
    "    def draw_rectangle(self, event, x, y, flags, param):\n",
    "        self.x, self.y = x, y\n",
    "        if event == cv2.EVENT_LBUTTONDOWN:\n",
    "            self.drawing = True\n",
    "            self.ix, self.iy = x, y\n",
    "        \n",
    "        elif event == cv2.EVENT_MOUSEMOVE:            \n",
    "            if self.drawing == True:\n",
    "                start_x, end_x = (self.ix, x) if self.ix < x else (x, self.ix)\n",
    "                start_y, end_y = (self.iy, y) if self.iy < y else (y, self.iy)\n",
    "                \n",
    "                self.mask[:] = np.ones(self.mask.shape)\n",
    "                self.mask[start_y:end_y, start_x:end_x] = np.zeros((end_y-start_y, end_x-start_x))\n",
    "\n",
    "        elif event == cv2.EVENT_LBUTTONUP:\n",
    "            self.drawing = False"
   ]
  },
  {
   "cell_type": "code",
   "execution_count": null,
   "id": "fdf0fb47-76e9-4e50-9809-708ea96c0de5",
   "metadata": {},
   "outputs": [],
   "source": [
    "orig_img = cv2.imread('dog.jpg) \n",
    "img = np.copy(orig_img)\n",
    "dm = DrawManager(img.shape[:-1])\n",
    "\n",
    "cv2.namedWindow('image')\n",
    "cv2.createTrackbar('Mode', 'image', 0, 3, lambda x: None)\n",
    "cv2.setMouseCallback('image', dm.draw_rectangle)\n",
    "\n",
    "while True:\n",
    "    cv2.imshow('image', img)\n",
    "    \n",
    "    if cv2.waitKey(2) & 0xFF == 27:\n",
    "        break\n",
    "    \n",
    "    mode = cv2.getTrackbarPos('Mode','image')\n",
    "    \n",
    "    b, g, r = cv2.split(orig_img)\n",
    "    \n",
    "    mask = dm.mask\n",
    "    \n",
    "    if mode == 0:\n",
    "        new_img = cv2.merge((b * mask, g * mask, r))\n",
    "    elif mode == 1:\n",
    "        new_img = cv2.merge((b * mask, g, r * mask))\n",
    "    elif mode == 2:\n",
    "        new_img = cv2.merge((b, g * mask, r * mask))\n",
    "    else:\n",
    "        new_img = orig_img\n",
    "        \n",
    "    cv2.putText(new_img, f'Mouse Position {dm.x, dm.y}',(10, 50), cv2.FONT_HERSHEY_SIMPLEX, 1, (1, 1, 1), 2, cv2.LINE_AA)\n",
    "    \n",
    "    img = new_img \n",
    "        \n",
    "cv2.destroyAllWindows()"
   ]
  },
  {
   "cell_type": "code",
   "execution_count": null,
   "id": "2296449e-e934-42f4-adc5-f6acbb3092e8",
   "metadata": {},
   "outputs": [],
   "source": [
    "def convert_gbr2rgb(x):\n",
    "    b, g, r = cv2.split(img)\n",
    "    return cv2.merge((r, g, b))\n",
    "\n",
    "\n",
    "plt_imshow(convert_gbr2rgb(img))"
   ]
  }
 ],
 "metadata": {
  "kernelspec": {
   "display_name": "Python 3",
   "language": "python",
   "name": "python3"
  },
  "language_info": {
   "codemirror_mode": {
    "name": "ipython",
    "version": 3
   },
   "file_extension": ".py",
   "mimetype": "text/x-python",
   "name": "python",
   "nbconvert_exporter": "python",
   "pygments_lexer": "ipython3",
   "version": "3.9.4"
  }
 },
 "nbformat": 4,
 "nbformat_minor": 5
}
