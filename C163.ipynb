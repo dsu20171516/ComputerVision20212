{
 "cells": [
  {
   "cell_type": "markdown",
   "id": "9bbb5bbb-1917-4c1c-b8f1-145f0d5ad657",
   "metadata": {},
   "source": [
    "### 1.6.3 Background Subtraction ###\n",
    "### BackgroundSubtractorMOG ###"
   ]
  },
  {
   "cell_type": "code",
   "execution_count": 1,
   "id": "242d91b0-5652-49a7-ba93-f7cfae526603",
   "metadata": {},
   "outputs": [],
   "source": [
    "import numpy as np\n",
    "import cv2"
   ]
  },
  {
   "cell_type": "code",
   "execution_count": 2,
   "id": "9687b126-a005-4774-a89b-cf9b59519c5f",
   "metadata": {},
   "outputs": [],
   "source": [
    "cap = cv2.VideoCapture('monitoring_720p.mp4')\n",
    "fgbg = cv2.createBackgroundSubtractorMOG2()\n",
    "#fgbg = cv2.bgsegm.createBackgroundSubtractorMOG()"
   ]
  },
  {
   "cell_type": "code",
   "execution_count": 3,
   "id": "88ec8a40-2406-43c2-a273-9ad85a6f1a6a",
   "metadata": {},
   "outputs": [],
   "source": [
    "while(1):\n",
    "    ret, frame = cap.read()\n",
    "    fgmask = fgbg.apply(frame)\n",
    "    cv2.imshow('frame',fgmask)\n",
    "    k = cv2.waitKey(30) & 0xff\n",
    "    if k == 27:\n",
    "        break\n",
    "cap.release()\n",
    "cv2.destroyAllWindows()"
   ]
  },
  {
   "cell_type": "markdown",
   "id": "4d58f2e4-1d1a-4789-aab1-f41f63886257",
   "metadata": {},
   "source": [
    "### BackgroundSubtractorMOG2 ###"
   ]
  },
  {
   "cell_type": "code",
   "execution_count": 4,
   "id": "19c7236a-e81a-4f1b-bc62-6f0ad3a5c5d5",
   "metadata": {},
   "outputs": [],
   "source": [
    "cap = cv2.VideoCapture('monitoring_720p.mp4')\n",
    "fgbg = cv2.createBackgroundSubtractorMOG2(detectShadows=True)\n",
    "#fgbg = cv2.bgsegm.createBackgroundSubtractorMOG2()"
   ]
  },
  {
   "cell_type": "code",
   "execution_count": 5,
   "id": "fb6d3923-73b8-475a-96c4-5b5e1564022e",
   "metadata": {},
   "outputs": [
    {
     "data": {
      "text/plain": [
       "-1"
      ]
     },
     "execution_count": 5,
     "metadata": {},
     "output_type": "execute_result"
    }
   ],
   "source": [
    "while(1):\n",
    "    ret, frame = cap.read()\n",
    "    fgmask = fgbg.apply(frame)\n",
    "    cv2.imshow('frame',fgmask)\n",
    "    k = cv2.waitKey(30) & 0xff\n",
    "    if k == 27:\n",
    "        break\n",
    "cap.release()\n",
    "cv2.destroyAllWindows()\n",
    "cv2.waitKey(1)"
   ]
  },
  {
   "cell_type": "markdown",
   "id": "e196e00b-a0e4-4c6e-b844-da92a51729cb",
   "metadata": {},
   "source": [
    "### BackgroundSubtractorGMG ###"
   ]
  },
  {
   "cell_type": "code",
   "execution_count": 6,
   "id": "c13bf555-0d44-4cf4-ae4e-f9ac23ff614e",
   "metadata": {},
   "outputs": [],
   "source": [
    "cap = cv2.VideoCapture('monitoring_720p.mp4')"
   ]
  },
  {
   "cell_type": "code",
   "execution_count": null,
   "id": "0d6dc4e0-2d0d-4356-a245-71f9be939788",
   "metadata": {},
   "outputs": [],
   "source": [
    "kernel = cv2.getStructuringElement(cv2.MORPH_ELLIPSE,(3,3))\n",
    "fgbg = cv2.createBackgroundSubtractorGMG()"
   ]
  },
  {
   "cell_type": "code",
   "execution_count": null,
   "id": "3098133a-b41b-4fbd-925f-995a01990d26",
   "metadata": {},
   "outputs": [],
   "source": [
    "while(1):\n",
    "    ret, frame = cap.read()\n",
    "    fgmask = fgbg.apply(frame)\n",
    "    cv2.imshow('vframe',frame)\n",
    "    cv2.imshow('frame',fgmask)\n",
    "    k = cv2.waitKey(30) & 0xff\n",
    "    if k == 27:\n",
    "        break\n",
    "cap.release()\n",
    "cv2.destroyAllWindows()\n",
    "cv2.waitKey(1)"
   ]
  }
 ],
 "metadata": {
  "kernelspec": {
   "display_name": "Python 3",
   "language": "python",
   "name": "python3"
  },
  "language_info": {
   "codemirror_mode": {
    "name": "ipython",
    "version": 3
   },
   "file_extension": ".py",
   "mimetype": "text/x-python",
   "name": "python",
   "nbconvert_exporter": "python",
   "pygments_lexer": "ipython3",
   "version": "3.9.4"
  }
 },
 "nbformat": 4,
 "nbformat_minor": 5
}
