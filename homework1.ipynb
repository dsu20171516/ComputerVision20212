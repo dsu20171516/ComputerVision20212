{
 "cells": [
  {
   "cell_type": "code",
   "execution_count": 1,
   "id": "07d3eb63-f2fc-4ecf-9758-da766fa72e9d",
   "metadata": {},
   "outputs": [],
   "source": [
    "import cv2\n",
    "import numpy as np"
   ]
  },
  {
   "cell_type": "code",
   "execution_count": 2,
   "id": "796e28f0-35ca-471b-b573-5b3c7eff0837",
   "metadata": {},
   "outputs": [],
   "source": [
    "def nothing(x):\n",
    "    pass"
   ]
  },
  {
   "cell_type": "code",
   "execution_count": 3,
   "id": "17aed580-3e46-4a7c-9e48-263f21a4232e",
   "metadata": {},
   "outputs": [],
   "source": [
    "# mouse callback function\n",
    "def draw_circle(event,x,y,flags,param):\n",
    "    global ix, iy, drawing, img\n",
    "    \n",
    "    font = cv2.FONT_HERSHEY_SIMPLEX\n",
    "    \n",
    "    if event == cv2.EVENT_LBUTTONDOWN:        \n",
    "        drawing = True\n",
    "        ix,iy = x,y\n",
    "\n",
    "    elif event == cv2.EVENT_MOUSEMOVE:\n",
    "        if drawing == True:\n",
    "            img = cv2.imread('cat.jpg', 1)\n",
    "            \n",
    "            # cv2.rectangle(img, 시작 좌표(top-left), 종료 좌표(bottom-right), 색상, 선의 두께)\n",
    "            cv2.rectangle(img,(ix,iy),(x,y),(0,0,255),-1)\n",
    "            \n",
    "            # cv2.putText(img, 출력 문자, 출력 문자 시작 위치 좌표(좌측 하단 기준), 폰트, 폰트 크기, 폰트 색상, 폰트 두께, 선 종류)\n",
    "            cv2.putText(img, 'Mouse Position (' + str(ix) + ',' + str(iy) + ') - (' + str(x) + ',' + str(y) + ')', (10, 30), font, 1, (0, 0, 0), 2, cv2.LINE_AA)\n",
    "                    \n",
    "    elif event == cv2.EVENT_LBUTTONUP:               \n",
    "        drawing = False\n",
    "        \n",
    "        cv2.rectangle(img,(ix,iy),(x,y),(0,0,255),10)\n",
    "                    \n",
    "        cv2.putText(img, 'Mouse Position (' + str(ix) + ',' + str(iy) + ') - (' + str(x) + ',' + str(y) + ')', (10, 30), font, 1, (0, 0, 0), 2, cv2.LINE_AA)"
   ]
  },
  {
   "cell_type": "code",
   "execution_count": 5,
   "id": "1d8fe993-4543-4585-8caa-acfcdbe03f9d",
   "metadata": {},
   "outputs": [],
   "source": [
    "events = [i for i in dir(cv2) if 'EVENT' in i]"
   ]
  },
  {
   "cell_type": "code",
   "execution_count": 6,
   "id": "1285abdc-0d80-4ccd-8e23-7a7ea7cc697a",
   "metadata": {},
   "outputs": [],
   "source": [
    "drawing = False # true if mouse is pressed"
   ]
  },
  {
   "cell_type": "code",
   "execution_count": 8,
   "id": "1197d3d4-ce89-4600-a285-5914925df1a2",
   "metadata": {},
   "outputs": [
    {
     "data": {
      "text/plain": [
       "array([[[188, 199, 243],\n",
       "        [188, 199, 243],\n",
       "        [188, 198, 245],\n",
       "        ...,\n",
       "        [194, 196, 250],\n",
       "        [194, 195, 253],\n",
       "        [194, 195, 253]],\n",
       "\n",
       "       [[191, 199, 246],\n",
       "        [189, 199, 246],\n",
       "        [191, 199, 246],\n",
       "        ...,\n",
       "        [194, 195, 251],\n",
       "        [194, 195, 251],\n",
       "        [194, 195, 253]],\n",
       "\n",
       "       [[193, 198, 247],\n",
       "        [191, 198, 247],\n",
       "        [193, 198, 247],\n",
       "        ...,\n",
       "        [194, 195, 251],\n",
       "        [194, 195, 251],\n",
       "        [194, 195, 251]],\n",
       "\n",
       "       ...,\n",
       "\n",
       "       [[194, 196, 250],\n",
       "        [194, 196, 250],\n",
       "        [194, 196, 250],\n",
       "        ...,\n",
       "        [194, 196, 250],\n",
       "        [194, 196, 250],\n",
       "        [194, 196, 250]],\n",
       "\n",
       "       [[194, 196, 250],\n",
       "        [194, 196, 250],\n",
       "        [194, 196, 250],\n",
       "        ...,\n",
       "        [194, 196, 250],\n",
       "        [194, 196, 250],\n",
       "        [194, 196, 250]],\n",
       "\n",
       "       [[194, 196, 250],\n",
       "        [194, 196, 250],\n",
       "        [194, 196, 250],\n",
       "        ...,\n",
       "        [194, 196, 250],\n",
       "        [194, 196, 250],\n",
       "        [194, 196, 250]]], dtype=uint8)"
      ]
     },
     "execution_count": 8,
     "metadata": {},
     "output_type": "execute_result"
    }
   ],
   "source": [
    "img = cv2.imread('dog.jpg', 1)\n",
    "\n",
    "cv2.namedWindow('image')\n",
    "\n",
    "cv2.setMouseCallback('image',draw_circle)\n",
    "\n",
    "# Trackbar 생성\n",
    "cv2.createTrackbar('Value','image',0,255,nothing)\n",
    "\n",
    "# Text 생성\n",
    "font = cv2.FONT_HERSHEY_SIMPLEX\n",
    "cv2.putText(img, 'Mouse Position ( 0,0 ) - ( 0,0 )', (10, 30), font, 1, (0, 0, 0), 2, cv2.LINE_AA)"
   ]
  },
  {
   "cell_type": "code",
   "execution_count": null,
   "id": "26d81907-6557-47fa-8173-e3fb07fde18c",
   "metadata": {},
   "outputs": [],
   "source": [
    "while(True):\n",
    "    cv2.imshow('image',img)\n",
    "    k = cv2.waitKey(1) & 0xFF\n",
    "    \n",
    "    if k == 27:\n",
    "        break\n",
    "        \n",
    "    # Trackbar 포지션 잡아주기\n",
    "    Value = cv2.getTrackbarPos('Value','image')\n",
    "        \n",
    "cv2.destroyAllWindows()\n",
    "cv2.waitKey(1)"
   ]
  },
  {
   "cell_type": "code",
   "execution_count": null,
   "id": "b8e63ad2-9558-4e90-ab80-3558e294382d",
   "metadata": {},
   "outputs": [],
   "source": []
  }
 ],
 "metadata": {
  "kernelspec": {
   "display_name": "Python 3",
   "language": "python",
   "name": "python3"
  },
  "language_info": {
   "codemirror_mode": {
    "name": "ipython",
    "version": 3
   },
   "file_extension": ".py",
   "mimetype": "text/x-python",
   "name": "python",
   "nbconvert_exporter": "python",
   "pygments_lexer": "ipython3",
   "version": "3.9.4"
  }
 },
 "nbformat": 4,
 "nbformat_minor": 5
}
