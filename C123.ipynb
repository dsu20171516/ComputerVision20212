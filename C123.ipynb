{
 "cells": [
  {
   "cell_type": "markdown",
   "id": "16d8d49f-4cbf-45d8-8668-111a2f10ac3f",
   "metadata": {},
   "source": [
    "### 1.2.3. Drawing Functions in OpenCV ###"
   ]
  },
  {
   "cell_type": "markdown",
   "id": "38461f0b-60de-4198-bd22-03c07a17b668",
   "metadata": {},
   "source": [
    "### Drawing Line Rectangle Circle Eilipse ###"
   ]
  },
  {
   "cell_type": "code",
   "execution_count": 2,
   "id": "f072bbbe-d372-4e7d-ac3e-6410b45c4900",
   "metadata": {},
   "outputs": [],
   "source": [
    "import numpy as np\n",
    "import cv2"
   ]
  },
  {
   "cell_type": "code",
   "execution_count": 2,
   "id": "457a144f-2d98-4ba9-9beb-e052cf3bf5bf",
   "metadata": {},
   "outputs": [],
   "source": [
    "img = np.zeros((512,512,3), np.uint8)\n",
    "\n",
    "img = cv2.line(img, (0, 0), (511, 511), (255, 0, 0), 5)\n",
    "img = cv2.line(img, (511, 0), (0, 511), (0, 255, 0), 5)"
   ]
  },
  {
   "cell_type": "code",
   "execution_count": null,
   "id": "c5178145-6300-448a-8296-9f9069641cd7",
   "metadata": {},
   "outputs": [],
   "source": [
    "while True:\n",
    "    cv2.imshow('image', img)\n",
    "    \n",
    "    if cv2.waitKey(1) & 0xFF == ord('q'):\n",
    "        break\n",
    "        \n",
    "cv2.destroyAllWindows()"
   ]
  },
  {
   "cell_type": "code",
   "execution_count": null,
   "id": "f1b68a76-10d9-4bb4-b9c9-4eb8f60e79f9",
   "metadata": {
    "tags": []
   },
   "outputs": [],
   "source": [
    "from matplotlib import pyplot as plt\n",
    "plt.imshow(img)\n",
    "plt.xticks([]), plt.yticks([]) # to hide tick values on X and Y axis\n",
    "plt.show()"
   ]
  },
  {
   "cell_type": "markdown",
   "id": "66d6d30e-a29d-4f68-bddc-5d39165b4910",
   "metadata": {},
   "source": [
    "### Drawing Rectangle ###"
   ]
  },
  {
   "cell_type": "code",
   "execution_count": null,
   "id": "ee2579a7-36d7-4c0f-aab6-cff5c6fdd76a",
   "metadata": {},
   "outputs": [],
   "source": [
    "img = cv2.rectangle(img,(384,0),(510,128),(0,255,0), 3)"
   ]
  },
  {
   "cell_type": "markdown",
   "id": "930590f3-f3ba-4c40-9b64-2b9934974bed",
   "metadata": {},
   "source": [
    "### Drawing Circle ###"
   ]
  },
  {
   "cell_type": "code",
   "execution_count": null,
   "id": "dbd4a252-a544-4cd3-a344-34539e811166",
   "metadata": {},
   "outputs": [],
   "source": [
    "img = cv2.circle(img,(447,63), 63, (0,0,255), -1)"
   ]
  },
  {
   "cell_type": "markdown",
   "id": "e71bd4bc-0040-461c-9c7c-48bf5a8e13bf",
   "metadata": {},
   "source": [
    "### Drawing Ellipse ###"
   ]
  },
  {
   "cell_type": "code",
   "execution_count": null,
   "id": "216263e1-b0c3-408f-8f9b-f63fcbdc266a",
   "metadata": {},
   "outputs": [],
   "source": [
    "img = cv2.ellipse(img,(256,256),(100,50),0,0,180,255,-1)"
   ]
  },
  {
   "cell_type": "markdown",
   "id": "39136815-a85e-477b-a95e-7f5100df9587",
   "metadata": {},
   "source": [
    "### Drawing Polygon ###"
   ]
  },
  {
   "cell_type": "code",
   "execution_count": null,
   "id": "ded55385-2e2f-42fe-ae8a-f5ed9d71b759",
   "metadata": {},
   "outputs": [],
   "source": [
    "pts = np.array([[10,5],[20,30],[70,20],[50,10]], np.int32)\n",
    "pts = pts.reshape((-1,1,2))\n",
    "img = cv2.polylines(img,[pts],True,(0,255,255))"
   ]
  },
  {
   "cell_type": "markdown",
   "id": "3bc4c77c-edeb-4d89-8fa6-e92343746e10",
   "metadata": {},
   "source": [
    "### Adding Text to Images ###"
   ]
  },
  {
   "cell_type": "code",
   "execution_count": null,
   "id": "a06016b4-9a71-4e71-a23a-513dc6d6c5e7",
   "metadata": {},
   "outputs": [],
   "source": [
    "font = cv2.FONT_HERSHEY_SIMPLEX\n",
    "cv2.putText(img,'OpenCV',(10,500), font, 4,(255,255,255),2,cv2.LINE_AA)"
   ]
  },
  {
   "cell_type": "code",
   "execution_count": null,
   "id": "cf67f340-377d-436f-bd5a-cea3ed90473b",
   "metadata": {},
   "outputs": [],
   "source": [
    "plt.imshow(img)\n",
    "plt.xticks([]), plt.yticks([]) # to hide tick values on X and Y axis\n",
    "plt.show()"
   ]
  }
 ],
 "metadata": {
  "kernelspec": {
   "display_name": "Python 3",
   "language": "python",
   "name": "python3"
  },
  "language_info": {
   "codemirror_mode": {
    "name": "ipython",
    "version": 3
   },
   "file_extension": ".py",
   "mimetype": "text/x-python",
   "name": "python",
   "nbconvert_exporter": "python",
   "pygments_lexer": "ipython3",
   "version": "3.9.4"
  }
 },
 "nbformat": 4,
 "nbformat_minor": 5
}
