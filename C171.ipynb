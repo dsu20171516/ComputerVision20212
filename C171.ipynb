{
 "cells": [
  {
   "cell_type": "markdown",
   "id": "87430d0a-17d4-47be-b9d3-489e95535037",
   "metadata": {},
   "source": [
    "### 1.7.1 Camera Calibration ###"
   ]
  },
  {
   "cell_type": "code",
   "execution_count": 2,
   "id": "4c55834b-79e3-40ad-b502-b6f9122604d6",
   "metadata": {},
   "outputs": [],
   "source": [
    "import numpy as np\n",
    "import cv2\n",
    "import glob\n",
    "from matplotlib import pyplot as plt"
   ]
  },
  {
   "cell_type": "code",
   "execution_count": 3,
   "id": "b7988f79-b0bb-462c-b0e9-c26d5d87bd7c",
   "metadata": {},
   "outputs": [],
   "source": [
    "# termination criteria\n",
    "criteria = (cv2.TERM_CRITERIA_EPS + cv2.TERM_CRITERIA_MAX_ITER, 30, 0.001)"
   ]
  },
  {
   "cell_type": "code",
   "execution_count": 4,
   "id": "c496763e-4626-4517-a57e-0aa9ea044dc4",
   "metadata": {},
   "outputs": [],
   "source": [
    "# prepare object points, like (0,0,0), (1,0,0), (2,0,0) ....,(6,5,0)\n",
    "objp = np.zeros((6*7,3), np.float32)\n",
    "objp[:,:2] = np.mgrid[0:7,0:6].T.reshape(-1,2)"
   ]
  },
  {
   "cell_type": "code",
   "execution_count": 5,
   "id": "33f38070-278f-4610-822b-5812dbee7b5c",
   "metadata": {},
   "outputs": [],
   "source": [
    "# Arrays to store object points and image points from all the images.\n",
    "objpoints = [] # 3d point in real world space\n",
    "imgpoints = [] # 2d points in image plane.\n",
    "images = glob.glob('carry1.jpg') #('.\\Image\\*.png')"
   ]
  },
  {
   "cell_type": "code",
   "execution_count": 6,
   "id": "ea793445-9a6a-4ce6-a111-e5079ea3b270",
   "metadata": {},
   "outputs": [
    {
     "data": {
      "text/plain": [
       "1"
      ]
     },
     "execution_count": 6,
     "metadata": {},
     "output_type": "execute_result"
    }
   ],
   "source": [
    "len(images)"
   ]
  },
  {
   "cell_type": "code",
   "execution_count": 7,
   "id": "566f896a-6965-4dfd-afec-227023b409a7",
   "metadata": {},
   "outputs": [],
   "source": [
    "for fname in images:\n",
    "    img = cv2.imread(fname)\n",
    "    gray = cv2.cvtColor(img,cv2.COLOR_BGR2GRAY)\n",
    "    # Find the chess board corners\n",
    "    ret, corners = cv2.findChessboardCorners(gray, (7,6),None) #(7,6)\n",
    "    # If found, add object points, image points (after refining them)\n",
    "    if ret == True:\n",
    "        objpoints.append(objp)\n",
    "        corners2 = cv2.cornerSubPix(gray,corners,(11,11),(-1,-1),criteria)\n",
    "        imgpoints.append(corners2)\n",
    "        # Draw and display the corners\n",
    "        img = cv2.drawChessboardCorners(img, (7,6), corners2,ret)\n",
    "        cv2.imshow('img',img)\n",
    "        cv2.waitKey(0)\n",
    "cv2.destroyAllWindows()"
   ]
  },
  {
   "cell_type": "code",
   "execution_count": 8,
   "id": "1e893509-90b0-4b58-9f7f-03590a276451",
   "metadata": {},
   "outputs": [],
   "source": [
    "cv2.imshow('img',img)"
   ]
  },
  {
   "cell_type": "markdown",
   "id": "f1a55577-f8f0-43f3-b4ef-65686fa1e5da",
   "metadata": {},
   "source": [
    "### Calibration ###"
   ]
  },
  {
   "cell_type": "code",
   "execution_count": null,
   "id": "5caff820-5459-4535-92a6-eda4379f3798",
   "metadata": {},
   "outputs": [],
   "source": [
    "ret, mtx, dist, rvecs, tvecs = cv2.calibrateCamera(objpoints, imgpoints, gray.shape[::-1],None,None)"
   ]
  },
  {
   "cell_type": "code",
   "execution_count": null,
   "id": "4eb5c4e3-aa57-40e3-9fb3-6bc6b084136d",
   "metadata": {},
   "outputs": [],
   "source": [
    "mtx"
   ]
  },
  {
   "cell_type": "code",
   "execution_count": null,
   "id": "f2cc37aa-4f2c-4ba0-98f2-e2cc7a8f65b5",
   "metadata": {},
   "outputs": [],
   "source": [
    "dist"
   ]
  },
  {
   "cell_type": "code",
   "execution_count": null,
   "id": "6253b09f-b2a9-4c74-976d-2c0c1265d0b8",
   "metadata": {},
   "outputs": [],
   "source": [
    "print(rvecs)"
   ]
  },
  {
   "cell_type": "code",
   "execution_count": null,
   "id": "791c8773-547d-4a9a-9dd8-815b570c6f2b",
   "metadata": {},
   "outputs": [],
   "source": [
    "tvecs"
   ]
  },
  {
   "cell_type": "markdown",
   "id": "ba9ff6b6-39d8-4933-9a9f-b55779ec72cf",
   "metadata": {},
   "source": [
    "### Undistortion ###"
   ]
  },
  {
   "cell_type": "code",
   "execution_count": null,
   "id": "d657e08c-7e06-4369-8672-d865957ccea9",
   "metadata": {},
   "outputs": [],
   "source": [
    "img = cv2.imread('carry2.jpg')\n",
    "h, w = img.shape[:2]\n",
    "newcameramtx, roi=cv2.getOptimalNewCameraMatrix(mtx,dist,(w,h),1,(w,h))"
   ]
  },
  {
   "cell_type": "markdown",
   "id": "6dfc9fee-edce-463e-912c-b3443ada9e73",
   "metadata": {},
   "source": [
    "### 1. Using cv2.undistort() ###"
   ]
  },
  {
   "cell_type": "code",
   "execution_count": null,
   "id": "b4fc2a60-7c9b-480e-a5a8-cb8483cb0265",
   "metadata": {},
   "outputs": [],
   "source": [
    "# undistort\n",
    "dst = cv2.undistort(img, mtx, dist, None, newcameramtx)\n",
    "# crop the image\n",
    "x,y,w,h = roi\n",
    "dst = dst[y:y+h, x:x+w]\n",
    "cv2.imwrite('carry2.jpg',dst)"
   ]
  },
  {
   "cell_type": "code",
   "execution_count": null,
   "id": "a424427e-f2cf-4a0d-8dca-083df4fdc622",
   "metadata": {},
   "outputs": [],
   "source": [
    "plt.figure(figsize=(12,8))\n",
    "plt.subplot(121), plt.imshow(img)\n",
    "plt.subplot(122), plt.imshow(dst)\n",
    "plt.show()"
   ]
  },
  {
   "cell_type": "markdown",
   "id": "a0b88bbf-958f-4c3e-bcd7-fa7de81fe3e3",
   "metadata": {},
   "source": [
    "### Re-projection Error ###"
   ]
  },
  {
   "cell_type": "code",
   "execution_count": null,
   "id": "a068df3e-6838-42e8-ba84-55cc532795da",
   "metadata": {},
   "outputs": [],
   "source": [
    "tot_error = 0\n",
    "for i in range(len(objpoints)):\n",
    "    imgpoints2, _ = cv2.projectPoints(objpoints[i], rvecs[i], tvecs[i], mtx, dist)\n",
    "    error = cv2.norm(imgpoints[i],imgpoints2, cv2.NORM_L2)/len(imgpoints2)\n",
    "    tot_error += error\n",
    "print(\"mean error: \", tot_error/len(objpoints))"
   ]
  }
 ],
 "metadata": {
  "kernelspec": {
   "display_name": "Python 3",
   "language": "python",
   "name": "python3"
  },
  "language_info": {
   "codemirror_mode": {
    "name": "ipython",
    "version": 3
   },
   "file_extension": ".py",
   "mimetype": "text/x-python",
   "name": "python",
   "nbconvert_exporter": "python",
   "pygments_lexer": "ipython3",
   "version": "3.9.4"
  }
 },
 "nbformat": 4,
 "nbformat_minor": 5
}
